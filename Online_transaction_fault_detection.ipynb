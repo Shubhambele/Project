{
  "nbformat": 4,
  "nbformat_minor": 0,
  "metadata": {
    "colab": {
      "provenance": [],
      "collapsed_sections": [
        "J4F8fGvpWRLI",
        "rG0XOUK3Ugon",
        "DNLdOyP4UwoY",
        "1pCAjBNbVQLZ",
        "Mq8sKfZUVxGY",
        "JtNTxF72RXbA",
        "NdxauWH-SAW-",
        "rhI7C8wdSE5B",
        "Xh48_IO0SMYQ",
        "W8L0EmajRuhE",
        "6aibT82HQqvO",
        "mQJkcLPWQnco",
        "rs9UN5siQjPa",
        "JDvt_krxQcXL",
        "uOP1PGmbQ4pw",
        "QicqG1qYSMrQ",
        "kN440ZsSSSsh",
        "GV6kiHRPSYUE",
        "AVelAmuRSbrw",
        "cJ2eDazYSsLR",
        "A3Abj96sSxhA",
        "J69onZc9S7Of"
      ]
    },
    "kernelspec": {
      "name": "python3",
      "display_name": "Python 3"
    },
    "language_info": {
      "name": "python"
    }
  },
  "cells": [
    {
      "cell_type": "markdown",
      "source": [
        "##Building a PYSPARK connection"
      ],
      "metadata": {
        "id": "J4F8fGvpWRLI"
      }
    },
    {
      "cell_type": "code",
      "source": [
        "# install java\n",
        "!apt-get install openjdk-8-jdk-headless -qq > /dev/null\n",
        "\n",
        "# install spark (change the version number if needed)\n",
        "!wget -q https://archive.apache.org/dist/spark/spark-3.0.0/spark-3.0.0-bin-hadoop3.2.tgz\n",
        "\n",
        "# unzip the spark file to the current folder\n",
        "!tar xf spark-3.0.0-bin-hadoop3.2.tgz\n",
        "\n",
        "# set your spark folder to your system path environment. \n",
        "import os\n",
        "os.environ[\"JAVA_HOME\"] = \"/usr/lib/jvm/java-8-openjdk-amd64\"\n",
        "os.environ[\"SPARK_HOME\"] = \"/content/spark-3.0.0-bin-hadoop3.2\"\n",
        "\n",
        "\n",
        "# install findspark using pip\n",
        "!pip install -q findspark"
      ],
      "metadata": {
        "id": "35fcSzvm3DtN"
      },
      "execution_count": null,
      "outputs": []
    },
    {
      "cell_type": "code",
      "source": [
        "!pip install pyspark"
      ],
      "metadata": {
        "id": "hvnLj2bQ3IGP",
        "colab": {
          "base_uri": "https://localhost:8080/"
        },
        "outputId": "9a76f9e1-2eb0-4566-845f-337b871233fb"
      },
      "execution_count": null,
      "outputs": [
        {
          "output_type": "stream",
          "name": "stdout",
          "text": [
            "Looking in indexes: https://pypi.org/simple, https://us-python.pkg.dev/colab-wheels/public/simple/\n",
            "Collecting pyspark\n",
            "  Downloading pyspark-3.3.2.tar.gz (281.4 MB)\n",
            "\u001b[2K     \u001b[90m━━━━━━━━━━━━━━━━━━━━━━━━━━━━━━━━━━━━━━━\u001b[0m \u001b[32m281.4/281.4 MB\u001b[0m \u001b[31m5.0 MB/s\u001b[0m eta \u001b[36m0:00:00\u001b[0m\n",
            "\u001b[?25h  Preparing metadata (setup.py) ... \u001b[?25l\u001b[?25hdone\n",
            "Collecting py4j==0.10.9.5\n",
            "  Downloading py4j-0.10.9.5-py2.py3-none-any.whl (199 kB)\n",
            "\u001b[2K     \u001b[90m━━━━━━━━━━━━━━━━━━━━━━━━━━━━━━━━━━━━━━\u001b[0m \u001b[32m199.7/199.7 KB\u001b[0m \u001b[31m14.1 MB/s\u001b[0m eta \u001b[36m0:00:00\u001b[0m\n",
            "\u001b[?25hBuilding wheels for collected packages: pyspark\n",
            "  Building wheel for pyspark (setup.py) ... \u001b[?25l\u001b[?25hdone\n",
            "  Created wheel for pyspark: filename=pyspark-3.3.2-py2.py3-none-any.whl size=281824025 sha256=af091e07820df96d578cbfab36b72237f84a7c54a27b287efe58630ed72f90dc\n",
            "  Stored in directory: /root/.cache/pip/wheels/6c/e3/9b/0525ce8a69478916513509d43693511463c6468db0de237c86\n",
            "Successfully built pyspark\n",
            "Installing collected packages: py4j, pyspark\n",
            "Successfully installed py4j-0.10.9.5 pyspark-3.3.2\n"
          ]
        }
      ]
    },
    {
      "cell_type": "code",
      "source": [
        "import findspark\n",
        "findspark.init()"
      ],
      "metadata": {
        "id": "qW6Apcxy3KyG"
      },
      "execution_count": null,
      "outputs": []
    },
    {
      "cell_type": "code",
      "source": [
        "from pyspark.sql import SparkSession\n",
        "spark = SparkSession.builder\\\n",
        "        .master(\"local\")\\\n",
        "        .appName(\"Colab\")\\\n",
        "        .config('spark.ui.port', '4050')\\\n",
        "        .getOrCreate()"
      ],
      "metadata": {
        "id": "Ul__Lzei3Npt"
      },
      "execution_count": null,
      "outputs": []
    },
    {
      "cell_type": "code",
      "source": [
        "df = spark.createDataFrame([(1, \"John\"), (2, \"Jane\"), (3, \"Smith\")], [\"id\", \"name\"])\n",
        "df.show()"
      ],
      "metadata": {
        "id": "hhhO0jrm3TGP",
        "colab": {
          "base_uri": "https://localhost:8080/"
        },
        "outputId": "b3852b45-cb56-4c46-cae1-078dcb4269db"
      },
      "execution_count": null,
      "outputs": [
        {
          "output_type": "stream",
          "name": "stdout",
          "text": [
            "+---+-----+\n",
            "| id| name|\n",
            "+---+-----+\n",
            "|  1| John|\n",
            "|  2| Jane|\n",
            "|  3|Smith|\n",
            "+---+-----+\n",
            "\n"
          ]
        }
      ]
    },
    {
      "cell_type": "code",
      "source": [
        "rdd = df.rdd\n",
        "rdd.collect()"
      ],
      "metadata": {
        "id": "hqXQDVmC3W2W",
        "colab": {
          "base_uri": "https://localhost:8080/"
        },
        "outputId": "61d3ca11-48e4-41d1-f199-4190867cf7bc"
      },
      "execution_count": null,
      "outputs": [
        {
          "output_type": "execute_result",
          "data": {
            "text/plain": [
              "[Row(id=1, name='John'), Row(id=2, name='Jane'), Row(id=3, name='Smith')]"
            ]
          },
          "metadata": {},
          "execution_count": 6
        }
      ]
    },
    {
      "cell_type": "code",
      "source": [
        "rdd.count()"
      ],
      "metadata": {
        "colab": {
          "base_uri": "https://localhost:8080/"
        },
        "id": "9qvPzGOktoLY",
        "outputId": "a22c9d44-1344-46c5-ca23-69464ce4441f"
      },
      "execution_count": null,
      "outputs": [
        {
          "output_type": "execute_result",
          "data": {
            "text/plain": [
              "3"
            ]
          },
          "metadata": {},
          "execution_count": 7
        }
      ]
    },
    {
      "cell_type": "markdown",
      "source": [
        "##Creating a SparkSession"
      ],
      "metadata": {
        "id": "rG0XOUK3Ugon"
      }
    },
    {
      "cell_type": "code",
      "source": [
        "# create a SparkSession\n",
        "spark = SparkSession.builder.appName(\"RDD Example\").getOrCreate()\n",
        "\n",
        "# create an RDD with some data\n",
        "data = [1, 2, 3, 4, 5]\n",
        "rdd = spark.sparkContext.parallelize(data)\n",
        "\n",
        "# perform some transformations on the RDD\n",
        "squared_rdd = rdd.map(lambda x: x**2)\n",
        "\n",
        "# retrieve the results\n",
        "result = squared_rdd.collect()\n",
        "\n",
        "# print the results\n",
        "print(result)"
      ],
      "metadata": {
        "id": "RjS6XUjd3Z6N",
        "colab": {
          "base_uri": "https://localhost:8080/"
        },
        "outputId": "266584a8-cf18-461a-fe3b-91de44e16555"
      },
      "execution_count": null,
      "outputs": [
        {
          "output_type": "stream",
          "name": "stdout",
          "text": [
            "[1, 4, 9, 16, 25]\n"
          ]
        }
      ]
    },
    {
      "cell_type": "markdown",
      "source": [
        "##Mounting Google Drive in a Colab notebook"
      ],
      "metadata": {
        "id": "yLq1Bm1DUPSK"
      }
    },
    {
      "cell_type": "code",
      "source": [
        "# from google.colab import files\n",
        "# uploaded = files.upload()"
      ],
      "metadata": {
        "id": "SjiKVQpy3c6X"
      },
      "execution_count": null,
      "outputs": []
    },
    {
      "cell_type": "code",
      "source": [
        "rdd1 = spark.sparkContext.parallelize([(1,2),(2,1),(2,2)])\n",
        "rdd2 = spark.sparkContext.parallelize([(2,5),(3,1)])\n",
        "a = rdd1.collect()\n",
        "b = rdd2.collect()\n",
        "print(a,b)"
      ],
      "metadata": {
        "id": "V-F2Vqz43fsF",
        "colab": {
          "base_uri": "https://localhost:8080/"
        },
        "outputId": "1ae26bef-0509-4eb9-de92-a98346948235"
      },
      "execution_count": null,
      "outputs": [
        {
          "output_type": "stream",
          "name": "stdout",
          "text": [
            "[(1, 2), (2, 1), (2, 2)] [(2, 5), (3, 1)]\n"
          ]
        }
      ]
    },
    {
      "cell_type": "markdown",
      "source": [
        "##Creating a SparkContext object (sc)"
      ],
      "metadata": {
        "id": "DNLdOyP4UwoY"
      }
    },
    {
      "cell_type": "code",
      "source": [
        "# from pyspark import SparkContext, SparkConf\n",
        "# conf = SparkConf().setAppName(\"Fraudulent Transactions Analysis\")\n",
        "\n",
        "# Create a SparkContext object\n",
        "# sc = SparkContext(conf=conf)"
      ],
      "metadata": {
        "id": "JSp9d6y93lCb"
      },
      "execution_count": null,
      "outputs": []
    },
    {
      "cell_type": "code",
      "source": [
        "from pyspark import SparkContext, SparkConf\n",
        "conf = SparkConf().setAppName(\"Fraudulent Transactions Analysis\")\n",
        "sc = SparkContext.getOrCreate(conf=conf)"
      ],
      "metadata": {
        "id": "-mXvzMyx3qr1"
      },
      "execution_count": null,
      "outputs": []
    },
    {
      "cell_type": "markdown",
      "source": [
        "##Loading a dataset into RDD"
      ],
      "metadata": {
        "id": "1pCAjBNbVQLZ"
      }
    },
    {
      "cell_type": "code",
      "source": [
        "from google.colab import drive\n",
        "drive.mount('/content/drive')"
      ],
      "metadata": {
        "id": "mIoONPzJHopU",
        "colab": {
          "base_uri": "https://localhost:8080/"
        },
        "outputId": "a71f7bc2-b14b-404b-e840-e0af3edf697b"
      },
      "execution_count": null,
      "outputs": [
        {
          "output_type": "stream",
          "name": "stdout",
          "text": [
            "Mounted at /content/drive\n"
          ]
        }
      ]
    },
    {
      "cell_type": "code",
      "source": [
        "dataset = sc.textFile(\"/content/drive/MyDrive/fraud_data.csv\")"
      ],
      "metadata": {
        "id": "C91NBUDQ3tjv"
      },
      "execution_count": null,
      "outputs": []
    },
    {
      "cell_type": "code",
      "source": [
        "#eliminate=dataset.filter(lambda line: line != header )"
      ],
      "metadata": {
        "id": "SPPmB8u1u9RA"
      },
      "execution_count": null,
      "outputs": []
    },
    {
      "cell_type": "code",
      "source": [
        "transactions = dataset.map(lambda line: line.split(\",\"))"
      ],
      "metadata": {
        "id": "8gvLB_VU3xs-"
      },
      "execution_count": null,
      "outputs": []
    },
    {
      "cell_type": "code",
      "source": [
        "transactions.count()"
      ],
      "metadata": {
        "id": "o2d1ok5Y30dw",
        "colab": {
          "base_uri": "https://localhost:8080/"
        },
        "outputId": "6bba90d4-53d9-4e87-91bc-9b16f9ded3fa"
      },
      "execution_count": null,
      "outputs": [
        {
          "output_type": "execute_result",
          "data": {
            "text/plain": [
              "6362621"
            ]
          },
          "metadata": {},
          "execution_count": 17
        }
      ]
    },
    {
      "cell_type": "code",
      "source": [
        "transactions.take(5)"
      ],
      "metadata": {
        "id": "vbqC1eFb33Vd",
        "colab": {
          "base_uri": "https://localhost:8080/"
        },
        "outputId": "174f058b-c4cc-4e60-9ea3-b06fb5c3d8d2"
      },
      "execution_count": null,
      "outputs": [
        {
          "output_type": "execute_result",
          "data": {
            "text/plain": [
              "[['step',\n",
              "  'type',\n",
              "  'amount',\n",
              "  'nameOrig',\n",
              "  'oldbalanceOrg',\n",
              "  'newbalanceOrig',\n",
              "  'nameDest',\n",
              "  'oldbalanceDest',\n",
              "  'newbalanceDest',\n",
              "  'isFraud',\n",
              "  'isFlaggedFraud'],\n",
              " ['1',\n",
              "  'PAYMENT',\n",
              "  '9839.64',\n",
              "  'C1231006815',\n",
              "  '170136.0',\n",
              "  '160296.36',\n",
              "  'M1979787155',\n",
              "  '0.0',\n",
              "  '0.0',\n",
              "  '0',\n",
              "  '0'],\n",
              " ['1',\n",
              "  'PAYMENT',\n",
              "  '1864.28',\n",
              "  'C1666544295',\n",
              "  '21249.0',\n",
              "  '19384.72',\n",
              "  'M2044282225',\n",
              "  '0.0',\n",
              "  '0.0',\n",
              "  '0',\n",
              "  '0'],\n",
              " ['1',\n",
              "  'TRANSFER',\n",
              "  '181.0',\n",
              "  'C1305486145',\n",
              "  '181.0',\n",
              "  '0.0',\n",
              "  'C553264065',\n",
              "  '0.0',\n",
              "  '0.0',\n",
              "  '1',\n",
              "  '0'],\n",
              " ['1',\n",
              "  'CASH_OUT',\n",
              "  '181.0',\n",
              "  'C840083671',\n",
              "  '181.0',\n",
              "  '0.0',\n",
              "  'C38997010',\n",
              "  '21182.0',\n",
              "  '0.0',\n",
              "  '1',\n",
              "  '0']]"
            ]
          },
          "metadata": {},
          "execution_count": 18
        }
      ]
    },
    {
      "cell_type": "code",
      "source": [
        "header = transactions.first()"
      ],
      "metadata": {
        "id": "MU3xQy13ThQE"
      },
      "execution_count": null,
      "outputs": []
    },
    {
      "cell_type": "code",
      "source": [
        "new_rdd = transactions.filter(lambda x: x != header)"
      ],
      "metadata": {
        "id": "bfzazGbTTnX0"
      },
      "execution_count": null,
      "outputs": []
    },
    {
      "cell_type": "code",
      "source": [
        "new_rdd.take(5)"
      ],
      "metadata": {
        "id": "W5Jz1WCVTvbP",
        "colab": {
          "base_uri": "https://localhost:8080/"
        },
        "outputId": "461803eb-eb27-4dca-ac66-c33d29f8ff8f"
      },
      "execution_count": null,
      "outputs": [
        {
          "output_type": "execute_result",
          "data": {
            "text/plain": [
              "[['1',\n",
              "  'PAYMENT',\n",
              "  '9839.64',\n",
              "  'C1231006815',\n",
              "  '170136.0',\n",
              "  '160296.36',\n",
              "  'M1979787155',\n",
              "  '0.0',\n",
              "  '0.0',\n",
              "  '0',\n",
              "  '0'],\n",
              " ['1',\n",
              "  'PAYMENT',\n",
              "  '1864.28',\n",
              "  'C1666544295',\n",
              "  '21249.0',\n",
              "  '19384.72',\n",
              "  'M2044282225',\n",
              "  '0.0',\n",
              "  '0.0',\n",
              "  '0',\n",
              "  '0'],\n",
              " ['1',\n",
              "  'TRANSFER',\n",
              "  '181.0',\n",
              "  'C1305486145',\n",
              "  '181.0',\n",
              "  '0.0',\n",
              "  'C553264065',\n",
              "  '0.0',\n",
              "  '0.0',\n",
              "  '1',\n",
              "  '0'],\n",
              " ['1',\n",
              "  'CASH_OUT',\n",
              "  '181.0',\n",
              "  'C840083671',\n",
              "  '181.0',\n",
              "  '0.0',\n",
              "  'C38997010',\n",
              "  '21182.0',\n",
              "  '0.0',\n",
              "  '1',\n",
              "  '0'],\n",
              " ['1',\n",
              "  'PAYMENT',\n",
              "  '11668.14',\n",
              "  'C2048537720',\n",
              "  '41554.0',\n",
              "  '29885.86',\n",
              "  'M1230701703',\n",
              "  '0.0',\n",
              "  '0.0',\n",
              "  '0',\n",
              "  '0']]"
            ]
          },
          "metadata": {},
          "execution_count": 21
        }
      ]
    },
    {
      "cell_type": "code",
      "source": [
        "dataset.take(5)"
      ],
      "metadata": {
        "id": "RLGr-UWg352H",
        "colab": {
          "base_uri": "https://localhost:8080/"
        },
        "outputId": "9ac8b7f5-bdbc-4a27-9c21-ab8f129992c6"
      },
      "execution_count": null,
      "outputs": [
        {
          "output_type": "execute_result",
          "data": {
            "text/plain": [
              "['step,type,amount,nameOrig,oldbalanceOrg,newbalanceOrig,nameDest,oldbalanceDest,newbalanceDest,isFraud,isFlaggedFraud',\n",
              " '1,PAYMENT,9839.64,C1231006815,170136.0,160296.36,M1979787155,0.0,0.0,0,0',\n",
              " '1,PAYMENT,1864.28,C1666544295,21249.0,19384.72,M2044282225,0.0,0.0,0,0',\n",
              " '1,TRANSFER,181.0,C1305486145,181.0,0.0,C553264065,0.0,0.0,1,0',\n",
              " '1,CASH_OUT,181.0,C840083671,181.0,0.0,C38997010,21182.0,0.0,1,0']"
            ]
          },
          "metadata": {},
          "execution_count": 22
        }
      ]
    },
    {
      "cell_type": "markdown",
      "source": [
        "###Creating new RDD with datatype"
      ],
      "metadata": {
        "id": "kQ_XAn-hLWpY"
      }
    },
    {
      "cell_type": "code",
      "source": [
        "header = dataset.first()\n"
      ],
      "metadata": {
        "id": "zfH3zAXuKccx"
      },
      "execution_count": null,
      "outputs": []
    },
    {
      "cell_type": "code",
      "source": [
        "rdd = dataset.filter(lambda row: row != header)\n",
        "rdd = rdd.map(lambda row: row.split(\",\"))"
      ],
      "metadata": {
        "id": "vFMnCwUoKq3d"
      },
      "execution_count": null,
      "outputs": []
    },
    {
      "cell_type": "markdown",
      "source": [
        "#SPARK-SQL "
      ],
      "metadata": {
        "id": "JtNTxF72RXbA"
      }
    },
    {
      "cell_type": "code",
      "source": [
        "from pyspark.sql.types import StructType, StringType, IntegerType, DoubleType, LongType"
      ],
      "metadata": {
        "id": "dINqKflD4p1s"
      },
      "execution_count": null,
      "outputs": []
    },
    {
      "cell_type": "code",
      "source": [
        "schema2 = StructType().add(\"step\",IntegerType(),True).add(\"type\",StringType(),True).add(\"amount\",DoubleType(),True).add(\"origin\",StringType(),True).add(\"sender_old_balance\",DoubleType(),True).add(\"sender_new_balance\",DoubleType(),True).add(\"destination\",StringType(),True).add(\"receiver_old_balance\",DoubleType(),True).add(\"receiver_new_balance\",DoubleType(),True).add(\"isfraud\",IntegerType(),True).add(\"isFlaggedFraud\",IntegerType(),True)"
      ],
      "metadata": {
        "id": "JoOM20Ka4vvO"
      },
      "execution_count": null,
      "outputs": []
    },
    {
      "cell_type": "code",
      "source": [
        "df_with_schema2 = spark.read.format(\"csv\").option(\"header\", \"True\").schema(schema2).load(\"/content/drive/MyDrive/fraud_data.csv\")"
      ],
      "metadata": {
        "id": "nnptOaJx4zJn"
      },
      "execution_count": null,
      "outputs": []
    },
    {
      "cell_type": "code",
      "source": [
        "df_with_schema2.registerTempTable(\"Online_fraud\")"
      ],
      "metadata": {
        "id": "S3-uM2T34176"
      },
      "execution_count": null,
      "outputs": []
    },
    {
      "cell_type": "code",
      "source": [
        "q=spark.sql('select * from Online_fraud limit 10')\n",
        "q.show()"
      ],
      "metadata": {
        "id": "XDz9GBtJ44vt",
        "colab": {
          "base_uri": "https://localhost:8080/"
        },
        "outputId": "d93931f2-8a2f-439f-cfb7-d1053ba8ae5d"
      },
      "execution_count": null,
      "outputs": [
        {
          "output_type": "stream",
          "name": "stdout",
          "text": [
            "+----+--------+--------+-----------+------------------+------------------+-----------+--------------------+--------------------+-------+--------------+\n",
            "|step|    type|  amount|     origin|sender_old_balance|sender_new_balance|destination|receiver_old_balance|receiver_new_balance|isfraud|isFlaggedFraud|\n",
            "+----+--------+--------+-----------+------------------+------------------+-----------+--------------------+--------------------+-------+--------------+\n",
            "|   1| PAYMENT| 9839.64|C1231006815|          170136.0|         160296.36|M1979787155|                 0.0|                 0.0|      0|             0|\n",
            "|   1| PAYMENT| 1864.28|C1666544295|           21249.0|          19384.72|M2044282225|                 0.0|                 0.0|      0|             0|\n",
            "|   1|TRANSFER|   181.0|C1305486145|             181.0|               0.0| C553264065|                 0.0|                 0.0|      1|             0|\n",
            "|   1|CASH_OUT|   181.0| C840083671|             181.0|               0.0|  C38997010|             21182.0|                 0.0|      1|             0|\n",
            "|   1| PAYMENT|11668.14|C2048537720|           41554.0|          29885.86|M1230701703|                 0.0|                 0.0|      0|             0|\n",
            "|   1| PAYMENT| 7817.71|  C90045638|           53860.0|          46042.29| M573487274|                 0.0|                 0.0|      0|             0|\n",
            "|   1| PAYMENT| 7107.77| C154988899|          183195.0|         176087.23| M408069119|                 0.0|                 0.0|      0|             0|\n",
            "|   1| PAYMENT| 7861.64|C1912850431|         176087.23|         168225.59| M633326333|                 0.0|                 0.0|      0|             0|\n",
            "|   1| PAYMENT| 4024.36|C1265012928|            2671.0|               0.0|M1176932104|                 0.0|                 0.0|      0|             0|\n",
            "|   1|   DEBIT| 5337.77| C712410124|           41720.0|          36382.23| C195600860|             41898.0|            40348.79|      0|             0|\n",
            "+----+--------+--------+-----------+------------------+------------------+-----------+--------------------+--------------------+-------+--------------+\n",
            "\n"
          ]
        }
      ]
    },
    {
      "cell_type": "code",
      "source": [
        "rdd = rdd.map(lambda row: (int(row[0]), row[1], float(row[2]), row[3], float(row[4]), float(row[5]), row[6], float(row[7]), float(row[8]), int(row[9]), int(row[10])))"
      ],
      "metadata": {
        "id": "KbVWZJEVLNUm"
      },
      "execution_count": null,
      "outputs": []
    },
    {
      "cell_type": "code",
      "source": [
        "data_types = rdd.map(lambda x: type(x)).distinct().collect()\n",
        "print(data_types)"
      ],
      "metadata": {
        "id": "xdxxgA8NN7aL",
        "colab": {
          "base_uri": "https://localhost:8080/"
        },
        "outputId": "cfb4d8bf-b3e6-4414-b31c-10333401eb89"
      },
      "execution_count": null,
      "outputs": [
        {
          "output_type": "stream",
          "name": "stdout",
          "text": [
            "[<class 'tuple'>]\n"
          ]
        }
      ]
    },
    {
      "cell_type": "markdown",
      "source": [
        "##SPARK-SQL---trial queries"
      ],
      "metadata": {
        "id": "Mq8sKfZUVxGY"
      }
    },
    {
      "cell_type": "code",
      "source": [
        "df = spark.read.format(\"csv\").option(\"header\", \"true\").load(\"/content/drive/MyDrive/fraud_data.csv\")"
      ],
      "metadata": {
        "id": "D65wqHaz4NSD"
      },
      "execution_count": null,
      "outputs": []
    },
    {
      "cell_type": "code",
      "source": [
        "df.printSchema()"
      ],
      "metadata": {
        "id": "JLyWAdO2Q7PB",
        "colab": {
          "base_uri": "https://localhost:8080/"
        },
        "outputId": "7babe5cd-6db8-4476-b174-0309e814c186"
      },
      "execution_count": null,
      "outputs": [
        {
          "output_type": "stream",
          "name": "stdout",
          "text": [
            "root\n",
            " |-- step: string (nullable = true)\n",
            " |-- type: string (nullable = true)\n",
            " |-- amount: string (nullable = true)\n",
            " |-- nameOrig: string (nullable = true)\n",
            " |-- oldbalanceOrg: string (nullable = true)\n",
            " |-- newbalanceOrig: string (nullable = true)\n",
            " |-- nameDest: string (nullable = true)\n",
            " |-- oldbalanceDest: string (nullable = true)\n",
            " |-- newbalanceDest: string (nullable = true)\n",
            " |-- isFraud: string (nullable = true)\n",
            " |-- isFlaggedFraud: string (nullable = true)\n",
            "\n"
          ]
        }
      ]
    },
    {
      "cell_type": "code",
      "source": [
        "df.show(5)"
      ],
      "metadata": {
        "id": "BIXVXQy2RdDp",
        "colab": {
          "base_uri": "https://localhost:8080/"
        },
        "outputId": "f241033f-7c04-475b-dad7-a3b21efd438d"
      },
      "execution_count": null,
      "outputs": [
        {
          "output_type": "stream",
          "name": "stdout",
          "text": [
            "+----+--------+--------+-----------+-------------+--------------+-----------+--------------+--------------+-------+--------------+\n",
            "|step|    type|  amount|   nameOrig|oldbalanceOrg|newbalanceOrig|   nameDest|oldbalanceDest|newbalanceDest|isFraud|isFlaggedFraud|\n",
            "+----+--------+--------+-----------+-------------+--------------+-----------+--------------+--------------+-------+--------------+\n",
            "|   1| PAYMENT| 9839.64|C1231006815|     170136.0|     160296.36|M1979787155|           0.0|           0.0|      0|             0|\n",
            "|   1| PAYMENT| 1864.28|C1666544295|      21249.0|      19384.72|M2044282225|           0.0|           0.0|      0|             0|\n",
            "|   1|TRANSFER|   181.0|C1305486145|        181.0|           0.0| C553264065|           0.0|           0.0|      1|             0|\n",
            "|   1|CASH_OUT|   181.0| C840083671|        181.0|           0.0|  C38997010|       21182.0|           0.0|      1|             0|\n",
            "|   1| PAYMENT|11668.14|C2048537720|      41554.0|      29885.86|M1230701703|           0.0|           0.0|      0|             0|\n",
            "+----+--------+--------+-----------+-------------+--------------+-----------+--------------+--------------+-------+--------------+\n",
            "only showing top 5 rows\n",
            "\n"
          ]
        }
      ]
    },
    {
      "cell_type": "markdown",
      "source": [
        "#PANDAS"
      ],
      "metadata": {
        "id": "feUavCwaRgiI"
      }
    },
    {
      "cell_type": "code",
      "source": [
        "import pandas as pd\n",
        "df = pd.read_csv('/content/drive/MyDrive/fraud_data.csv')"
      ],
      "metadata": {
        "id": "43Ld_5JV2nXb"
      },
      "execution_count": null,
      "outputs": []
    },
    {
      "cell_type": "code",
      "source": [
        "df.head(5)"
      ],
      "metadata": {
        "id": "KWRizKxf4GgT",
        "colab": {
          "base_uri": "https://localhost:8080/",
          "height": 206
        },
        "outputId": "222815e2-c834-4451-f94b-3f8b25aaa83c"
      },
      "execution_count": null,
      "outputs": [
        {
          "output_type": "execute_result",
          "data": {
            "text/plain": [
              "   step      type    amount     nameOrig  oldbalanceOrg  newbalanceOrig  \\\n",
              "0     1   PAYMENT   9839.64  C1231006815       170136.0       160296.36   \n",
              "1     1   PAYMENT   1864.28  C1666544295        21249.0        19384.72   \n",
              "2     1  TRANSFER    181.00  C1305486145          181.0            0.00   \n",
              "3     1  CASH_OUT    181.00   C840083671          181.0            0.00   \n",
              "4     1   PAYMENT  11668.14  C2048537720        41554.0        29885.86   \n",
              "\n",
              "      nameDest  oldbalanceDest  newbalanceDest  isFraud  isFlaggedFraud  \n",
              "0  M1979787155             0.0             0.0        0               0  \n",
              "1  M2044282225             0.0             0.0        0               0  \n",
              "2   C553264065             0.0             0.0        1               0  \n",
              "3    C38997010         21182.0             0.0        1               0  \n",
              "4  M1230701703             0.0             0.0        0               0  "
            ],
            "text/html": [
              "\n",
              "  <div id=\"df-849e8106-a404-412b-9850-5fabed11740f\">\n",
              "    <div class=\"colab-df-container\">\n",
              "      <div>\n",
              "<style scoped>\n",
              "    .dataframe tbody tr th:only-of-type {\n",
              "        vertical-align: middle;\n",
              "    }\n",
              "\n",
              "    .dataframe tbody tr th {\n",
              "        vertical-align: top;\n",
              "    }\n",
              "\n",
              "    .dataframe thead th {\n",
              "        text-align: right;\n",
              "    }\n",
              "</style>\n",
              "<table border=\"1\" class=\"dataframe\">\n",
              "  <thead>\n",
              "    <tr style=\"text-align: right;\">\n",
              "      <th></th>\n",
              "      <th>step</th>\n",
              "      <th>type</th>\n",
              "      <th>amount</th>\n",
              "      <th>nameOrig</th>\n",
              "      <th>oldbalanceOrg</th>\n",
              "      <th>newbalanceOrig</th>\n",
              "      <th>nameDest</th>\n",
              "      <th>oldbalanceDest</th>\n",
              "      <th>newbalanceDest</th>\n",
              "      <th>isFraud</th>\n",
              "      <th>isFlaggedFraud</th>\n",
              "    </tr>\n",
              "  </thead>\n",
              "  <tbody>\n",
              "    <tr>\n",
              "      <th>0</th>\n",
              "      <td>1</td>\n",
              "      <td>PAYMENT</td>\n",
              "      <td>9839.64</td>\n",
              "      <td>C1231006815</td>\n",
              "      <td>170136.0</td>\n",
              "      <td>160296.36</td>\n",
              "      <td>M1979787155</td>\n",
              "      <td>0.0</td>\n",
              "      <td>0.0</td>\n",
              "      <td>0</td>\n",
              "      <td>0</td>\n",
              "    </tr>\n",
              "    <tr>\n",
              "      <th>1</th>\n",
              "      <td>1</td>\n",
              "      <td>PAYMENT</td>\n",
              "      <td>1864.28</td>\n",
              "      <td>C1666544295</td>\n",
              "      <td>21249.0</td>\n",
              "      <td>19384.72</td>\n",
              "      <td>M2044282225</td>\n",
              "      <td>0.0</td>\n",
              "      <td>0.0</td>\n",
              "      <td>0</td>\n",
              "      <td>0</td>\n",
              "    </tr>\n",
              "    <tr>\n",
              "      <th>2</th>\n",
              "      <td>1</td>\n",
              "      <td>TRANSFER</td>\n",
              "      <td>181.00</td>\n",
              "      <td>C1305486145</td>\n",
              "      <td>181.0</td>\n",
              "      <td>0.00</td>\n",
              "      <td>C553264065</td>\n",
              "      <td>0.0</td>\n",
              "      <td>0.0</td>\n",
              "      <td>1</td>\n",
              "      <td>0</td>\n",
              "    </tr>\n",
              "    <tr>\n",
              "      <th>3</th>\n",
              "      <td>1</td>\n",
              "      <td>CASH_OUT</td>\n",
              "      <td>181.00</td>\n",
              "      <td>C840083671</td>\n",
              "      <td>181.0</td>\n",
              "      <td>0.00</td>\n",
              "      <td>C38997010</td>\n",
              "      <td>21182.0</td>\n",
              "      <td>0.0</td>\n",
              "      <td>1</td>\n",
              "      <td>0</td>\n",
              "    </tr>\n",
              "    <tr>\n",
              "      <th>4</th>\n",
              "      <td>1</td>\n",
              "      <td>PAYMENT</td>\n",
              "      <td>11668.14</td>\n",
              "      <td>C2048537720</td>\n",
              "      <td>41554.0</td>\n",
              "      <td>29885.86</td>\n",
              "      <td>M1230701703</td>\n",
              "      <td>0.0</td>\n",
              "      <td>0.0</td>\n",
              "      <td>0</td>\n",
              "      <td>0</td>\n",
              "    </tr>\n",
              "  </tbody>\n",
              "</table>\n",
              "</div>\n",
              "      <button class=\"colab-df-convert\" onclick=\"convertToInteractive('df-849e8106-a404-412b-9850-5fabed11740f')\"\n",
              "              title=\"Convert this dataframe to an interactive table.\"\n",
              "              style=\"display:none;\">\n",
              "        \n",
              "  <svg xmlns=\"http://www.w3.org/2000/svg\" height=\"24px\"viewBox=\"0 0 24 24\"\n",
              "       width=\"24px\">\n",
              "    <path d=\"M0 0h24v24H0V0z\" fill=\"none\"/>\n",
              "    <path d=\"M18.56 5.44l.94 2.06.94-2.06 2.06-.94-2.06-.94-.94-2.06-.94 2.06-2.06.94zm-11 1L8.5 8.5l.94-2.06 2.06-.94-2.06-.94L8.5 2.5l-.94 2.06-2.06.94zm10 10l.94 2.06.94-2.06 2.06-.94-2.06-.94-.94-2.06-.94 2.06-2.06.94z\"/><path d=\"M17.41 7.96l-1.37-1.37c-.4-.4-.92-.59-1.43-.59-.52 0-1.04.2-1.43.59L10.3 9.45l-7.72 7.72c-.78.78-.78 2.05 0 2.83L4 21.41c.39.39.9.59 1.41.59.51 0 1.02-.2 1.41-.59l7.78-7.78 2.81-2.81c.8-.78.8-2.07 0-2.86zM5.41 20L4 18.59l7.72-7.72 1.47 1.35L5.41 20z\"/>\n",
              "  </svg>\n",
              "      </button>\n",
              "      \n",
              "  <style>\n",
              "    .colab-df-container {\n",
              "      display:flex;\n",
              "      flex-wrap:wrap;\n",
              "      gap: 12px;\n",
              "    }\n",
              "\n",
              "    .colab-df-convert {\n",
              "      background-color: #E8F0FE;\n",
              "      border: none;\n",
              "      border-radius: 50%;\n",
              "      cursor: pointer;\n",
              "      display: none;\n",
              "      fill: #1967D2;\n",
              "      height: 32px;\n",
              "      padding: 0 0 0 0;\n",
              "      width: 32px;\n",
              "    }\n",
              "\n",
              "    .colab-df-convert:hover {\n",
              "      background-color: #E2EBFA;\n",
              "      box-shadow: 0px 1px 2px rgba(60, 64, 67, 0.3), 0px 1px 3px 1px rgba(60, 64, 67, 0.15);\n",
              "      fill: #174EA6;\n",
              "    }\n",
              "\n",
              "    [theme=dark] .colab-df-convert {\n",
              "      background-color: #3B4455;\n",
              "      fill: #D2E3FC;\n",
              "    }\n",
              "\n",
              "    [theme=dark] .colab-df-convert:hover {\n",
              "      background-color: #434B5C;\n",
              "      box-shadow: 0px 1px 3px 1px rgba(0, 0, 0, 0.15);\n",
              "      filter: drop-shadow(0px 1px 2px rgba(0, 0, 0, 0.3));\n",
              "      fill: #FFFFFF;\n",
              "    }\n",
              "  </style>\n",
              "\n",
              "      <script>\n",
              "        const buttonEl =\n",
              "          document.querySelector('#df-849e8106-a404-412b-9850-5fabed11740f button.colab-df-convert');\n",
              "        buttonEl.style.display =\n",
              "          google.colab.kernel.accessAllowed ? 'block' : 'none';\n",
              "\n",
              "        async function convertToInteractive(key) {\n",
              "          const element = document.querySelector('#df-849e8106-a404-412b-9850-5fabed11740f');\n",
              "          const dataTable =\n",
              "            await google.colab.kernel.invokeFunction('convertToInteractive',\n",
              "                                                     [key], {});\n",
              "          if (!dataTable) return;\n",
              "\n",
              "          const docLinkHtml = 'Like what you see? Visit the ' +\n",
              "            '<a target=\"_blank\" href=https://colab.research.google.com/notebooks/data_table.ipynb>data table notebook</a>'\n",
              "            + ' to learn more about interactive tables.';\n",
              "          element.innerHTML = '';\n",
              "          dataTable['output_type'] = 'display_data';\n",
              "          await google.colab.output.renderOutput(dataTable, element);\n",
              "          const docLink = document.createElement('div');\n",
              "          docLink.innerHTML = docLinkHtml;\n",
              "          element.appendChild(docLink);\n",
              "        }\n",
              "      </script>\n",
              "    </div>\n",
              "  </div>\n",
              "  "
            ]
          },
          "metadata": {},
          "execution_count": 39
        }
      ]
    },
    {
      "cell_type": "code",
      "source": [
        "df.columns"
      ],
      "metadata": {
        "id": "uZ6-DgXuU0Tu",
        "colab": {
          "base_uri": "https://localhost:8080/"
        },
        "outputId": "3b43835f-c3c6-4f36-dd4c-8cd225ae7dee"
      },
      "execution_count": null,
      "outputs": [
        {
          "output_type": "execute_result",
          "data": {
            "text/plain": [
              "Index(['step', 'type', 'amount', 'nameOrig', 'oldbalanceOrg', 'newbalanceOrig',\n",
              "       'nameDest', 'oldbalanceDest', 'newbalanceDest', 'isFraud',\n",
              "       'isFlaggedFraud'],\n",
              "      dtype='object')"
            ]
          },
          "metadata": {},
          "execution_count": 40
        }
      ]
    },
    {
      "cell_type": "markdown",
      "source": [
        "#QUEURIES AND ITS SOLUTION IN 3 WAYS"
      ],
      "metadata": {
        "id": "uczbg2HpR1e1"
      }
    },
    {
      "cell_type": "code",
      "source": [
        "# 1.What is the maximum amount that was transferred in a single transaction  from and to  to which account?\n",
        "# 2.What is the maximum amount that was transferred in a single transaction  from and to  to which account in case of fraud as flag?\n",
        "# 3. How many customers initiated transactions that were flagged as fraudulent?\n",
        "# 4. What is the total amount of money lost due to fraudulent activity?\n",
        "# 5.Which type of transaction has the highest percentage of fraudulent and Non-Fraudulent activity?\n",
        "# 6. How many transactions involved customers with negative balances before the transaction?\n",
        "# 7. What is the maximum amount of money transferred in a single transaction that was not flagged as fraudulent?\n",
        "#8. How many transactions were processed in each step?\n",
        "#9 .which name dest is credited with most amount in case of fraud?\n",
        "# 10.top 10 destaccount which has maximum amount in case of fraud ?"
      ],
      "metadata": {
        "id": "dEvTSsPg35z2"
      },
      "execution_count": null,
      "outputs": []
    },
    {
      "cell_type": "markdown",
      "source": [
        "##Q 1.What is the maximum amount that was transferred in a single transaction  from and to  to which account?"
      ],
      "metadata": {
        "id": "grSD6LgLA9Fj"
      }
    },
    {
      "cell_type": "markdown",
      "source": [
        "####Using SparkSQL"
      ],
      "metadata": {
        "id": "lGmSl0T4MYSr"
      }
    },
    {
      "cell_type": "code",
      "source": [
        "q1=spark.sql('select origin,destination,amount as maximum_amt_in_single_trans from Online_fraud order by amount desc limit 1')\n",
        "q1.show()"
      ],
      "metadata": {
        "id": "DLgQH_FxBYq6",
        "colab": {
          "base_uri": "https://localhost:8080/"
        },
        "outputId": "374bb2cd-90e8-4f45-9722-e9dfa2692e4a"
      },
      "execution_count": null,
      "outputs": [
        {
          "output_type": "stream",
          "name": "stdout",
          "text": [
            "+-----------+-----------+---------------------------+\n",
            "|     origin|destination|maximum_amt_in_single_trans|\n",
            "+-----------+-----------+---------------------------+\n",
            "|C1715283297| C439737079|              9.244551664E7|\n",
            "+-----------+-----------+---------------------------+\n",
            "\n"
          ]
        }
      ]
    },
    {
      "cell_type": "markdown",
      "source": [
        "#### Using RDD"
      ],
      "metadata": {
        "id": "TOtSRzJYdaN3"
      }
    },
    {
      "cell_type": "code",
      "source": [
        "# Sort the RDD by amount in descending order and take the first row\n",
        "max_amount_row = rdd.takeOrdered(1, key=lambda row: -float(row[2]))[0]\n",
        "\n",
        "# Extract the relevant columns from the row\n",
        "origin = max_amount_row[3]\n",
        "destination = max_amount_row[6]\n",
        "max_amount = max_amount_row[2]\n",
        "\n",
        "# Print the result\n",
        "print(f\"Origin: {origin}, Destination: {destination}, Maximum Amount Transferred: {max_amount}\")"
      ],
      "metadata": {
        "id": "X9Zz8Cs2ai7u",
        "colab": {
          "base_uri": "https://localhost:8080/"
        },
        "outputId": "7fd8d8ab-4513-47bf-80d9-1c9597dda902"
      },
      "execution_count": null,
      "outputs": [
        {
          "output_type": "stream",
          "name": "stdout",
          "text": [
            "Origin: C1715283297, Destination: C439737079, Maximum Amount Transferred: 92445516.64\n"
          ]
        }
      ]
    },
    {
      "cell_type": "markdown",
      "source": [
        "####Using Pandas"
      ],
      "metadata": {
        "id": "_V3zgua_MlmH"
      }
    },
    {
      "cell_type": "code",
      "source": [
        "#SOLUTION BY PANDAS DATAFRAME\n",
        "\n",
        "q1 = df[['nameOrig', 'nameDest', 'amount']].sort_values('amount', ascending=False).head(1)\n",
        "q1.columns = ['Origin', 'Destination', 'Maximum Amount Transferred']\n",
        "print(q1)"
      ],
      "metadata": {
        "id": "uJfWygQ-Eclg",
        "colab": {
          "base_uri": "https://localhost:8080/"
        },
        "outputId": "66cda5fb-9574-4b37-a6e1-092c08317fb9"
      },
      "execution_count": null,
      "outputs": [
        {
          "output_type": "stream",
          "name": "stdout",
          "text": [
            "              Origin Destination  Maximum Amount Transferred\n",
            "3686583  C1715283297  C439737079                 92445516.64\n"
          ]
        }
      ]
    },
    {
      "cell_type": "markdown",
      "source": [
        "##Q2.What is the maximum amount that was transferred in a single transaction in case of fraud?"
      ],
      "metadata": {
        "id": "NdxauWH-SAW-"
      }
    },
    {
      "cell_type": "markdown",
      "source": [
        "####USING SPARK-SQL"
      ],
      "metadata": {
        "id": "rhI7C8wdSE5B"
      }
    },
    {
      "cell_type": "code",
      "source": [
        "#Sql Query\n",
        "# 1.What is the maximum amount that was transferred in a single transaction in case of fraud?\n",
        "q1=spark.sql('select amount,origin,destination as maximum_amt_in_single_trans from Online_fraud where isFraud=1 order by amount desc limit 1')\n",
        "q1.show()"
      ],
      "metadata": {
        "id": "v64qW2qb47Cn",
        "colab": {
          "base_uri": "https://localhost:8080/"
        },
        "outputId": "59369d11-54f2-4036-9d6a-4806057b55a5"
      },
      "execution_count": null,
      "outputs": [
        {
          "output_type": "stream",
          "name": "stdout",
          "text": [
            "+------+--------+---------------------------+\n",
            "|amount|  origin|maximum_amt_in_single_trans|\n",
            "+------+--------+---------------------------+\n",
            "| 1.0E7|C7162498|                 C945327594|\n",
            "+------+--------+---------------------------+\n",
            "\n"
          ]
        }
      ]
    },
    {
      "cell_type": "markdown",
      "source": [
        "####USING PYSPARK"
      ],
      "metadata": {
        "id": "Xh48_IO0SMYQ"
      }
    },
    {
      "cell_type": "code",
      "source": [
        "#in this problem when i used 'transactions' rdd which contains header & i apply max() on ammount field i got the max_amount='ammount'\n",
        "#so to overcome this i have created 'new_rdd' where i exclude the header."
      ],
      "metadata": {
        "id": "m_hib2vBXTvT"
      },
      "execution_count": null,
      "outputs": []
    },
    {
      "cell_type": "code",
      "source": [
        "fraudulent_transactions = rdd.filter(lambda x: x[9] == 1)"
      ],
      "metadata": {
        "id": "BSnfAIfnC9PP"
      },
      "execution_count": null,
      "outputs": []
    },
    {
      "cell_type": "code",
      "source": [
        "max_amount_transferred = fraudulent_transactions.map(lambda x: x[2]).max()"
      ],
      "metadata": {
        "id": "QD-b09pYJYsQ"
      },
      "execution_count": null,
      "outputs": []
    },
    {
      "cell_type": "code",
      "source": [
        "count_of_max_amount_fraudulent_transactions = fraudulent_transactions.filter(lambda x: x[2] == max_amount_transferred).count()"
      ],
      "metadata": {
        "id": "kWGWnj7rJkxg"
      },
      "execution_count": null,
      "outputs": []
    },
    {
      "cell_type": "code",
      "source": [
        "print(\"Maximum amount transferred in a single transaction:\", max_amount_transferred)"
      ],
      "metadata": {
        "id": "BEi-MGAaKqDK",
        "colab": {
          "base_uri": "https://localhost:8080/"
        },
        "outputId": "03d5455e-3be0-4c6d-f6ca-bf2b165ef39b"
      },
      "execution_count": null,
      "outputs": [
        {
          "output_type": "stream",
          "name": "stdout",
          "text": [
            "Maximum amount transferred in a single transaction: 10000000.0\n"
          ]
        }
      ]
    },
    {
      "cell_type": "code",
      "source": [
        "print(\"Number of fraudulent transactions with the maximum amount transferred:\", count_of_max_amount_fraudulent_transactions)"
      ],
      "metadata": {
        "id": "Yvm3iGIYK6CG",
        "colab": {
          "base_uri": "https://localhost:8080/"
        },
        "outputId": "30ec2f97-793f-4fb2-9815-510b17f3479d"
      },
      "execution_count": null,
      "outputs": [
        {
          "output_type": "stream",
          "name": "stdout",
          "text": [
            "Number of fraudulent transactions with the maximum amount transferred: 287\n"
          ]
        }
      ]
    },
    {
      "cell_type": "markdown",
      "source": [
        "####USING PANDAS"
      ],
      "metadata": {
        "id": "W8L0EmajRuhE"
      }
    },
    {
      "cell_type": "code",
      "source": [
        "max_amount_transferred = df[df['isFraud']==1]\n",
        "max_amount_transferred = max_amount_transferred['amount'].max()\n",
        "max_amount_transferred"
      ],
      "metadata": {
        "id": "nuccRBEI29ir",
        "colab": {
          "base_uri": "https://localhost:8080/"
        },
        "outputId": "988f2584-b9e9-4d21-ac73-c7796bbaa2e8"
      },
      "execution_count": null,
      "outputs": [
        {
          "output_type": "execute_result",
          "data": {
            "text/plain": [
              "10000000.0"
            ]
          },
          "metadata": {},
          "execution_count": 52
        }
      ]
    },
    {
      "cell_type": "code",
      "source": [
        "max_amount_transferred = df[df['isFraud']==1]\n",
        "max_amount_transferred = max_amount_transferred[['nameOrig', 'nameDest', 'amount']].sort_values('amount', ascending=False).head(1)\n",
        "max_amount_transferred"
      ],
      "metadata": {
        "id": "CeIaxozJZ7Mn",
        "colab": {
          "base_uri": "https://localhost:8080/",
          "height": 80
        },
        "outputId": "f297aa1e-0583-4ab9-cc74-be8a67b8f1f0"
      },
      "execution_count": null,
      "outputs": [
        {
          "output_type": "execute_result",
          "data": {
            "text/plain": [
              "            nameOrig     nameDest      amount\n",
              "3760283  C1214015158  C2110157840  10000000.0"
            ],
            "text/html": [
              "\n",
              "  <div id=\"df-cfec0696-4fef-4431-8307-5360f6f97c99\">\n",
              "    <div class=\"colab-df-container\">\n",
              "      <div>\n",
              "<style scoped>\n",
              "    .dataframe tbody tr th:only-of-type {\n",
              "        vertical-align: middle;\n",
              "    }\n",
              "\n",
              "    .dataframe tbody tr th {\n",
              "        vertical-align: top;\n",
              "    }\n",
              "\n",
              "    .dataframe thead th {\n",
              "        text-align: right;\n",
              "    }\n",
              "</style>\n",
              "<table border=\"1\" class=\"dataframe\">\n",
              "  <thead>\n",
              "    <tr style=\"text-align: right;\">\n",
              "      <th></th>\n",
              "      <th>nameOrig</th>\n",
              "      <th>nameDest</th>\n",
              "      <th>amount</th>\n",
              "    </tr>\n",
              "  </thead>\n",
              "  <tbody>\n",
              "    <tr>\n",
              "      <th>3760283</th>\n",
              "      <td>C1214015158</td>\n",
              "      <td>C2110157840</td>\n",
              "      <td>10000000.0</td>\n",
              "    </tr>\n",
              "  </tbody>\n",
              "</table>\n",
              "</div>\n",
              "      <button class=\"colab-df-convert\" onclick=\"convertToInteractive('df-cfec0696-4fef-4431-8307-5360f6f97c99')\"\n",
              "              title=\"Convert this dataframe to an interactive table.\"\n",
              "              style=\"display:none;\">\n",
              "        \n",
              "  <svg xmlns=\"http://www.w3.org/2000/svg\" height=\"24px\"viewBox=\"0 0 24 24\"\n",
              "       width=\"24px\">\n",
              "    <path d=\"M0 0h24v24H0V0z\" fill=\"none\"/>\n",
              "    <path d=\"M18.56 5.44l.94 2.06.94-2.06 2.06-.94-2.06-.94-.94-2.06-.94 2.06-2.06.94zm-11 1L8.5 8.5l.94-2.06 2.06-.94-2.06-.94L8.5 2.5l-.94 2.06-2.06.94zm10 10l.94 2.06.94-2.06 2.06-.94-2.06-.94-.94-2.06-.94 2.06-2.06.94z\"/><path d=\"M17.41 7.96l-1.37-1.37c-.4-.4-.92-.59-1.43-.59-.52 0-1.04.2-1.43.59L10.3 9.45l-7.72 7.72c-.78.78-.78 2.05 0 2.83L4 21.41c.39.39.9.59 1.41.59.51 0 1.02-.2 1.41-.59l7.78-7.78 2.81-2.81c.8-.78.8-2.07 0-2.86zM5.41 20L4 18.59l7.72-7.72 1.47 1.35L5.41 20z\"/>\n",
              "  </svg>\n",
              "      </button>\n",
              "      \n",
              "  <style>\n",
              "    .colab-df-container {\n",
              "      display:flex;\n",
              "      flex-wrap:wrap;\n",
              "      gap: 12px;\n",
              "    }\n",
              "\n",
              "    .colab-df-convert {\n",
              "      background-color: #E8F0FE;\n",
              "      border: none;\n",
              "      border-radius: 50%;\n",
              "      cursor: pointer;\n",
              "      display: none;\n",
              "      fill: #1967D2;\n",
              "      height: 32px;\n",
              "      padding: 0 0 0 0;\n",
              "      width: 32px;\n",
              "    }\n",
              "\n",
              "    .colab-df-convert:hover {\n",
              "      background-color: #E2EBFA;\n",
              "      box-shadow: 0px 1px 2px rgba(60, 64, 67, 0.3), 0px 1px 3px 1px rgba(60, 64, 67, 0.15);\n",
              "      fill: #174EA6;\n",
              "    }\n",
              "\n",
              "    [theme=dark] .colab-df-convert {\n",
              "      background-color: #3B4455;\n",
              "      fill: #D2E3FC;\n",
              "    }\n",
              "\n",
              "    [theme=dark] .colab-df-convert:hover {\n",
              "      background-color: #434B5C;\n",
              "      box-shadow: 0px 1px 3px 1px rgba(0, 0, 0, 0.15);\n",
              "      filter: drop-shadow(0px 1px 2px rgba(0, 0, 0, 0.3));\n",
              "      fill: #FFFFFF;\n",
              "    }\n",
              "  </style>\n",
              "\n",
              "      <script>\n",
              "        const buttonEl =\n",
              "          document.querySelector('#df-cfec0696-4fef-4431-8307-5360f6f97c99 button.colab-df-convert');\n",
              "        buttonEl.style.display =\n",
              "          google.colab.kernel.accessAllowed ? 'block' : 'none';\n",
              "\n",
              "        async function convertToInteractive(key) {\n",
              "          const element = document.querySelector('#df-cfec0696-4fef-4431-8307-5360f6f97c99');\n",
              "          const dataTable =\n",
              "            await google.colab.kernel.invokeFunction('convertToInteractive',\n",
              "                                                     [key], {});\n",
              "          if (!dataTable) return;\n",
              "\n",
              "          const docLinkHtml = 'Like what you see? Visit the ' +\n",
              "            '<a target=\"_blank\" href=https://colab.research.google.com/notebooks/data_table.ipynb>data table notebook</a>'\n",
              "            + ' to learn more about interactive tables.';\n",
              "          element.innerHTML = '';\n",
              "          dataTable['output_type'] = 'display_data';\n",
              "          await google.colab.output.renderOutput(dataTable, element);\n",
              "          const docLink = document.createElement('div');\n",
              "          docLink.innerHTML = docLinkHtml;\n",
              "          element.appendChild(docLink);\n",
              "        }\n",
              "      </script>\n",
              "    </div>\n",
              "  </div>\n",
              "  "
            ]
          },
          "metadata": {},
          "execution_count": 53
        }
      ]
    },
    {
      "cell_type": "code",
      "source": [
        "print(\"Maximum amount transferred in a single transaction:\", max_amount_transferred)"
      ],
      "metadata": {
        "id": "JTnSAzSh3GST",
        "colab": {
          "base_uri": "https://localhost:8080/"
        },
        "outputId": "0af506c0-b3d9-420c-e3fb-3c55b9aa2f85"
      },
      "execution_count": null,
      "outputs": [
        {
          "output_type": "stream",
          "name": "stdout",
          "text": [
            "Maximum amount transferred in a single transaction:             nameOrig     nameDest      amount\n",
            "3760283  C1214015158  C2110157840  10000000.0\n"
          ]
        }
      ]
    },
    {
      "cell_type": "code",
      "source": [
        "# num_fraudulent_max = df[df['amount'] == max_amount_transferred]\n",
        "# num_fraudulent_max"
      ],
      "metadata": {
        "id": "q3tqo-Yc2_r0"
      },
      "execution_count": null,
      "outputs": []
    },
    {
      "cell_type": "code",
      "source": [
        "# print(\"Number of transactions flagged as fraudulent with maximum amount:\", num_fraudulent_max)"
      ],
      "metadata": {
        "id": "Fp-8UtRj3Izj"
      },
      "execution_count": null,
      "outputs": []
    },
    {
      "cell_type": "markdown",
      "source": [
        "##Q3. How many customers initiated transactions that were flagged as fraudulent?"
      ],
      "metadata": {
        "id": "6aibT82HQqvO"
      }
    },
    {
      "cell_type": "markdown",
      "source": [
        "####USING SPARK-SQL"
      ],
      "metadata": {
        "id": "mQJkcLPWQnco"
      }
    },
    {
      "cell_type": "code",
      "source": [
        "# 2. How many customers initiated transactions that were flagged as fraudulent?\n",
        "q2=spark.sql('select count(origin) as flaged_fraud from online_fraud where isfraud=1')\n",
        "q2.show()"
      ],
      "metadata": {
        "id": "O42xPHDfIACY",
        "colab": {
          "base_uri": "https://localhost:8080/"
        },
        "outputId": "4d5dc737-ee02-419e-8e2d-7cd1b5b04471"
      },
      "execution_count": null,
      "outputs": [
        {
          "output_type": "stream",
          "name": "stdout",
          "text": [
            "+------------+\n",
            "|flaged_fraud|\n",
            "+------------+\n",
            "|        8213|\n",
            "+------------+\n",
            "\n"
          ]
        }
      ]
    },
    {
      "cell_type": "markdown",
      "source": [
        "####USING PYSPARK"
      ],
      "metadata": {
        "id": "rs9UN5siQjPa"
      }
    },
    {
      "cell_type": "code",
      "source": [
        "fraud_rdd= transactions.filter(lambda x: x[9] == '1')"
      ],
      "metadata": {
        "id": "IbVg_GQPHdXh"
      },
      "execution_count": null,
      "outputs": []
    },
    {
      "cell_type": "code",
      "source": [
        "customer_count = fraud_rdd.map(lambda x: x[3]).distinct().count()\n",
        "customer_count"
      ],
      "metadata": {
        "id": "ZodfFwQazGUN",
        "colab": {
          "base_uri": "https://localhost:8080/"
        },
        "outputId": "97840cbc-3d16-4c39-a7f5-0690a700c693"
      },
      "execution_count": null,
      "outputs": [
        {
          "output_type": "execute_result",
          "data": {
            "text/plain": [
              "8213"
            ]
          },
          "metadata": {},
          "execution_count": 59
        }
      ]
    },
    {
      "cell_type": "code",
      "source": [
        "print(\"Number of customers who initiated fraudulent transactions:\", customer_count)"
      ],
      "metadata": {
        "id": "JGx25M7bzN-W",
        "colab": {
          "base_uri": "https://localhost:8080/"
        },
        "outputId": "8d20259b-61f4-4069-e49d-99e5747e659f"
      },
      "execution_count": null,
      "outputs": [
        {
          "output_type": "stream",
          "name": "stdout",
          "text": [
            "Number of customers who initiated fraudulent transactions: 8213\n"
          ]
        }
      ]
    },
    {
      "cell_type": "markdown",
      "source": [
        "####USING PANDAS"
      ],
      "metadata": {
        "id": "JDvt_krxQcXL"
      }
    },
    {
      "cell_type": "code",
      "source": [
        "fraud_transactions_by_customer = df[df['isFraud'] == 1].groupby('nameOrig')['isFraud'].count()\n",
        "fraud_transactions_by_customer"
      ],
      "metadata": {
        "id": "GRmwGl5lPnfV",
        "colab": {
          "base_uri": "https://localhost:8080/"
        },
        "outputId": "5e31ab84-7072-4786-cf84-d30ab7ac80e9"
      },
      "execution_count": null,
      "outputs": [
        {
          "output_type": "execute_result",
          "data": {
            "text/plain": [
              "nameOrig\n",
              "C1000036340    1\n",
              "C1000086512    1\n",
              "C1000331499    1\n",
              "C1000484178    1\n",
              "C1000513158    1\n",
              "              ..\n",
              "C998715487     1\n",
              "C998785780     1\n",
              "C998822926     1\n",
              "C999561448     1\n",
              "C99979309      1\n",
              "Name: isFraud, Length: 8213, dtype: int64"
            ]
          },
          "metadata": {},
          "execution_count": 61
        }
      ]
    },
    {
      "cell_type": "code",
      "source": [
        "num_fraud_customers =len(fraud_transactions_by_customer)\n",
        "num_fraud_customers"
      ],
      "metadata": {
        "id": "aNk1r8TRP_AS",
        "colab": {
          "base_uri": "https://localhost:8080/"
        },
        "outputId": "bc02cb96-bfd4-41a0-f17b-63347f3fb392"
      },
      "execution_count": null,
      "outputs": [
        {
          "output_type": "execute_result",
          "data": {
            "text/plain": [
              "8213"
            ]
          },
          "metadata": {},
          "execution_count": 62
        }
      ]
    },
    {
      "cell_type": "markdown",
      "source": [
        "##Q4. What is the total amount of money lost due to fraudulent activity?"
      ],
      "metadata": {
        "id": "uOP1PGmbQ4pw"
      }
    },
    {
      "cell_type": "markdown",
      "source": [
        "####USING SPARK-SQL"
      ],
      "metadata": {
        "id": "0MpCWPfiRnQI"
      }
    },
    {
      "cell_type": "code",
      "source": [
        "\n",
        "q3=spark.sql('SELECT SUM(amount) as total_lost FROM online_fraud WHERE isFraud = 1') #1 lakh 20 thousand crore\n",
        "q3.show()"
      ],
      "metadata": {
        "id": "dL1_vxjs5Lwn",
        "colab": {
          "base_uri": "https://localhost:8080/"
        },
        "outputId": "a6ccd623-47f8-410d-9abd-f27bf1d726c7"
      },
      "execution_count": null,
      "outputs": [
        {
          "output_type": "stream",
          "name": "stdout",
          "text": [
            "+-----------------+\n",
            "|       total_lost|\n",
            "+-----------------+\n",
            "|1.205641542784E10|\n",
            "+-----------------+\n",
            "\n"
          ]
        }
      ]
    },
    {
      "cell_type": "markdown",
      "source": [
        "####USING PYSPARK"
      ],
      "metadata": {
        "id": "-3CcVg0ERt5e"
      }
    },
    {
      "cell_type": "code",
      "source": [
        "fraud_rdd = rdd.filter(lambda row: row[9] == 1)"
      ],
      "metadata": {
        "id": "ThpWkmaH56TL"
      },
      "execution_count": null,
      "outputs": []
    },
    {
      "cell_type": "code",
      "source": [
        "amount_rdd = fraud_rdd.map(lambda row: row[2])"
      ],
      "metadata": {
        "id": "oZEqLHUC6Bq3"
      },
      "execution_count": null,
      "outputs": []
    },
    {
      "cell_type": "code",
      "source": [
        "total_amount = amount_rdd.sum()"
      ],
      "metadata": {
        "id": "ympGtgGw6IWe"
      },
      "execution_count": null,
      "outputs": []
    },
    {
      "cell_type": "code",
      "source": [
        "total_amount"
      ],
      "metadata": {
        "id": "Ri6GCgIY-UBQ",
        "colab": {
          "base_uri": "https://localhost:8080/"
        },
        "outputId": "b35bcedc-c1f8-44fd-ed4c-036def520739"
      },
      "execution_count": null,
      "outputs": [
        {
          "output_type": "execute_result",
          "data": {
            "text/plain": [
              "12056415427.839998"
            ]
          },
          "metadata": {},
          "execution_count": 67
        }
      ]
    },
    {
      "cell_type": "markdown",
      "source": [
        "####USING PANDAS"
      ],
      "metadata": {
        "id": "YGipQx0bSf3j"
      }
    },
    {
      "cell_type": "code",
      "source": [
        "# Filter the DataFrame to keep only the rows where isFraud is equal to 1\n",
        "fraud_df = df[df['isFraud'] == 1]"
      ],
      "metadata": {
        "id": "5NpAHRu7TwjK"
      },
      "execution_count": null,
      "outputs": []
    },
    {
      "cell_type": "code",
      "source": [
        "# Select the amount column from the resulting DataFrame\n",
        "amount_series = fraud_df['amount']"
      ],
      "metadata": {
        "id": "YpEtwKdET9ZC"
      },
      "execution_count": null,
      "outputs": []
    },
    {
      "cell_type": "code",
      "source": [
        "# Calculate the total amount\n",
        "total_amount = amount_series.sum()\n",
        "print(\"Total amount of money lost due to fraudulent activity: \", total_amount)"
      ],
      "metadata": {
        "id": "QWeZKkEbUJtw",
        "colab": {
          "base_uri": "https://localhost:8080/"
        },
        "outputId": "388e1e65-7989-476a-c7b1-ed93f00815e0"
      },
      "execution_count": null,
      "outputs": [
        {
          "output_type": "stream",
          "name": "stdout",
          "text": [
            "Total amount of money lost due to fraudulent activity:  12056415427.839998\n"
          ]
        }
      ]
    },
    {
      "cell_type": "markdown",
      "source": [
        "##Q 5.Which type of transaction has the highest percentage of fraudulent activity?"
      ],
      "metadata": {
        "id": "QicqG1qYSMrQ"
      }
    },
    {
      "cell_type": "markdown",
      "source": [
        "####USING SPARK-SQL"
      ],
      "metadata": {
        "id": "kN440ZsSSSsh"
      }
    },
    {
      "cell_type": "code",
      "source": [
        "\n",
        "q4=spark.sql('SELECT type, COUNT(*) as num_transactions, COUNT(CASE WHEN isFraud = 1 THEN 1 END) as num_fraudulent_transactions, (COUNT(CASE WHEN isFraud = 1 THEN 1 END) / COUNT(*))*100 as fraud_percentage FROM online_fraud GROUP BY type ORDER BY fraud_percentage DESC ;')\n",
        "q4.show()"
      ],
      "metadata": {
        "id": "ZFPNmBRM5Lt4",
        "colab": {
          "base_uri": "https://localhost:8080/"
        },
        "outputId": "9b170ec9-4c5b-4b39-c21b-9da7e8672677"
      },
      "execution_count": null,
      "outputs": [
        {
          "output_type": "stream",
          "name": "stdout",
          "text": [
            "+--------+----------------+---------------------------+-------------------+\n",
            "|    type|num_transactions|num_fraudulent_transactions|   fraud_percentage|\n",
            "+--------+----------------+---------------------------+-------------------+\n",
            "|TRANSFER|          532909|                       4097| 0.7687991758442811|\n",
            "|CASH_OUT|         2237500|                       4116|0.18395530726256984|\n",
            "| CASH_IN|         1399284|                          0|                0.0|\n",
            "| PAYMENT|         2151495|                          0|                0.0|\n",
            "|   DEBIT|           41432|                          0|                0.0|\n",
            "+--------+----------------+---------------------------+-------------------+\n",
            "\n"
          ]
        }
      ]
    },
    {
      "cell_type": "markdown",
      "source": [
        "####USING PYSPARK"
      ],
      "metadata": {
        "id": "GV6kiHRPSYUE"
      }
    },
    {
      "cell_type": "code",
      "source": [
        "grouped_rdd = rdd.map(lambda row: (row[1], (row[9], 1)))"
      ],
      "metadata": {
        "id": "70WGLwGsLslW"
      },
      "execution_count": null,
      "outputs": []
    },
    {
      "cell_type": "code",
      "source": [
        "fraud_counts = grouped_rdd.reduceByKey(lambda x, y: (x[0]+y[0], x[1]+y[1]))"
      ],
      "metadata": {
        "id": "esMW39RWNVhp"
      },
      "execution_count": null,
      "outputs": []
    },
    {
      "cell_type": "code",
      "source": [
        "fraud_percentages = fraud_counts.mapValues(lambda x: (x[0] / x[1]) * 100)"
      ],
      "metadata": {
        "id": "beTardnjNaAp"
      },
      "execution_count": null,
      "outputs": []
    },
    {
      "cell_type": "code",
      "source": [
        "max_fraud_type = fraud_percentages.max(lambda x: x[1])"
      ],
      "metadata": {
        "id": "1aBVGdiGNfZO"
      },
      "execution_count": null,
      "outputs": []
    },
    {
      "cell_type": "code",
      "source": [
        "max_fraud_type"
      ],
      "metadata": {
        "id": "f9dkhC_MNhQw",
        "colab": {
          "base_uri": "https://localhost:8080/"
        },
        "outputId": "41439393-12b0-4ae6-a1f2-6b16eaf00709"
      },
      "execution_count": null,
      "outputs": [
        {
          "output_type": "execute_result",
          "data": {
            "text/plain": [
              "('TRANSFER', 0.7687991758442811)"
            ]
          },
          "metadata": {},
          "execution_count": 76
        }
      ]
    },
    {
      "cell_type": "markdown",
      "source": [
        "####USING PANDAS"
      ],
      "metadata": {
        "id": "AVelAmuRSbrw"
      }
    },
    {
      "cell_type": "code",
      "source": [
        "# Group the DataFrame by the type column and calculate the total count of transactions and the count of fraudulent transactions for each type\n",
        "grouped_df = df.groupby('type')['isFraud'].agg(['count', 'sum'])"
      ],
      "metadata": {
        "id": "22hoEXG5UvR3"
      },
      "execution_count": null,
      "outputs": []
    },
    {
      "cell_type": "code",
      "source": [
        "# Calculate the percentage of fraudulent transactions for each transaction type\n",
        "grouped_df['fraud_percentage'] = (grouped_df['sum'] / grouped_df['count']) * 100\n",
        "grouped_df['fraud_percentage']"
      ],
      "metadata": {
        "id": "5xKAgG4CUxh7",
        "colab": {
          "base_uri": "https://localhost:8080/"
        },
        "outputId": "8c802db5-d142-497a-d435-481e84743e2f"
      },
      "execution_count": null,
      "outputs": [
        {
          "output_type": "execute_result",
          "data": {
            "text/plain": [
              "type\n",
              "CASH_IN     0.000000\n",
              "CASH_OUT    0.183955\n",
              "DEBIT       0.000000\n",
              "PAYMENT     0.000000\n",
              "TRANSFER    0.768799\n",
              "Name: fraud_percentage, dtype: float64"
            ]
          },
          "metadata": {},
          "execution_count": 78
        }
      ]
    },
    {
      "cell_type": "code",
      "source": [
        "# Find the transaction type with the highest percentage of fraudulent transactions\n",
        "max_fraud_type = grouped_df['fraud_percentage'].idxmax()\n",
        "max_fraud_type"
      ],
      "metadata": {
        "id": "N4kbEiC7U1QV",
        "colab": {
          "base_uri": "https://localhost:8080/",
          "height": 35
        },
        "outputId": "6c93eeaa-c6eb-4dd3-b048-c90f90e8744f"
      },
      "execution_count": null,
      "outputs": [
        {
          "output_type": "execute_result",
          "data": {
            "text/plain": [
              "'TRANSFER'"
            ],
            "application/vnd.google.colaboratory.intrinsic+json": {
              "type": "string"
            }
          },
          "metadata": {},
          "execution_count": 79
        }
      ]
    },
    {
      "cell_type": "markdown",
      "source": [
        "##Q 6. How many transactions involved customers with negative balances before the transaction?"
      ],
      "metadata": {
        "id": "cJ2eDazYSsLR"
      }
    },
    {
      "cell_type": "markdown",
      "source": [
        "####USING SPARK-SQL"
      ],
      "metadata": {
        "id": "A3Abj96sSxhA"
      }
    },
    {
      "cell_type": "code",
      "source": [
        "\n",
        "q5=spark.sql('SELECT COUNT(*) as num_transactions FROM online_fraud WHERE sender_old_balance < 0 OR receiver_old_balance < 0')\n",
        "q5.show()"
      ],
      "metadata": {
        "id": "3_SEfx505RkV",
        "colab": {
          "base_uri": "https://localhost:8080/"
        },
        "outputId": "3a6c1eab-03ca-4979-e099-453a26f1e686"
      },
      "execution_count": null,
      "outputs": [
        {
          "output_type": "stream",
          "name": "stdout",
          "text": [
            "+----------------+\n",
            "|num_transactions|\n",
            "+----------------+\n",
            "|               0|\n",
            "+----------------+\n",
            "\n"
          ]
        }
      ]
    },
    {
      "cell_type": "markdown",
      "source": [
        "####USING PYSPARK"
      ],
      "metadata": {
        "id": "0CT9fD2PS2I4"
      }
    },
    {
      "cell_type": "code",
      "source": [
        "filtered_rdd = rdd.filter(lambda row: float(row[4]) < 0 or float(row[7]) < 0)\n",
        "\n",
        "# Count the number of rows\n",
        "num_transactions = filtered_rdd.count()\n",
        "print(num_transactions)"
      ],
      "metadata": {
        "id": "6PXKhtbJGyxk",
        "colab": {
          "base_uri": "https://localhost:8080/"
        },
        "outputId": "30cdef9c-7208-499e-85cc-c2e7141a5c75"
      },
      "execution_count": null,
      "outputs": [
        {
          "output_type": "stream",
          "name": "stdout",
          "text": [
            "0\n"
          ]
        }
      ]
    },
    {
      "cell_type": "markdown",
      "source": [
        "####USING PANDAS"
      ],
      "metadata": {
        "id": "J69onZc9S7Of"
      }
    },
    {
      "cell_type": "code",
      "source": [
        "# Filter the DataFrame to keep only the rows where the oldbalanceOrg column is negative\n",
        "negative_bal_df = df[df['oldbalanceOrg'] < 0]"
      ],
      "metadata": {
        "id": "a7N0ojPZYDbO"
      },
      "execution_count": null,
      "outputs": []
    },
    {
      "cell_type": "code",
      "source": [
        "# Select the nameOrig column from the resulting DataFrame and get a list of unique customer names\n",
        "unique_customers = negative_bal_df['nameOrig'].unique()"
      ],
      "metadata": {
        "id": "jfRylb7KcoQh"
      },
      "execution_count": null,
      "outputs": []
    },
    {
      "cell_type": "code",
      "source": [
        "# Filter the original DataFrame again to keep only the rows where the nameOrig column is in the list of unique customer names\n",
        "negative_bal_transactions_df = df[df['nameOrig'].isin(unique_customers)]"
      ],
      "metadata": {
        "id": "CQ_Y__-Vct6R"
      },
      "execution_count": null,
      "outputs": []
    },
    {
      "cell_type": "code",
      "source": [
        "# Calculate the total count of transactions\n",
        "total_count = negative_bal_transactions_df.shape[0]\n",
        "\n",
        "print(\"Number of transactions involving customers with negative balances before the transaction: \", total_count)"
      ],
      "metadata": {
        "id": "keUT-NefcxLB",
        "colab": {
          "base_uri": "https://localhost:8080/"
        },
        "outputId": "110a258e-11c1-4351-a8c3-1e3ed711cfcc"
      },
      "execution_count": null,
      "outputs": [
        {
          "output_type": "stream",
          "name": "stdout",
          "text": [
            "Number of transactions involving customers with negative balances before the transaction:  0\n"
          ]
        }
      ]
    },
    {
      "cell_type": "markdown",
      "source": [
        "##Q 7. What is the maximum amount of money transferred in a single transaction that was not flagged as fraudulent?"
      ],
      "metadata": {
        "id": "YssCCKW_yLcK"
      }
    },
    {
      "cell_type": "markdown",
      "source": [
        "####USING SPARK-SQL"
      ],
      "metadata": {
        "id": "cG5K8yBb2lj-"
      }
    },
    {
      "cell_type": "code",
      "source": [
        "q8=spark.sql(\"SELECT MAX(amount) AS max_amount FROM online_fraud WHERE isFraud = 0\")\n",
        "q8.show()"
      ],
      "metadata": {
        "id": "2fqx9DZwCXyZ",
        "colab": {
          "base_uri": "https://localhost:8080/"
        },
        "outputId": "b837011f-a5d2-4c0f-d8fd-3465ce118d00"
      },
      "execution_count": null,
      "outputs": [
        {
          "output_type": "stream",
          "name": "stdout",
          "text": [
            "+-------------+\n",
            "|   max_amount|\n",
            "+-------------+\n",
            "|9.244551664E7|\n",
            "+-------------+\n",
            "\n"
          ]
        }
      ]
    },
    {
      "cell_type": "markdown",
      "source": [
        "####USING Pandas"
      ],
      "metadata": {
        "id": "axy3RVEY2pHr"
      }
    },
    {
      "cell_type": "code",
      "source": [
        "max_amount = df.loc[df['isFraud'] == 0, 'amount'].max()\n",
        "\n",
        "print(max_amount)"
      ],
      "metadata": {
        "id": "Pdt4mfUoHiC4",
        "colab": {
          "base_uri": "https://localhost:8080/"
        },
        "outputId": "dce288b6-d2c7-48aa-d00b-9765e89d6180"
      },
      "execution_count": null,
      "outputs": [
        {
          "output_type": "stream",
          "name": "stdout",
          "text": [
            "92445516.64\n"
          ]
        }
      ]
    },
    {
      "cell_type": "markdown",
      "source": [
        "####USING SPARK-RDD"
      ],
      "metadata": {
        "id": "svWMHcuO2t98"
      }
    },
    {
      "cell_type": "code",
      "source": [
        "max_amount = rdd.filter(lambda row: int(row[9]) == 0).map(lambda row: float(row[2])).max()\n",
        "print(max_amount)"
      ],
      "metadata": {
        "id": "DxHKgtmTvmFX",
        "colab": {
          "base_uri": "https://localhost:8080/"
        },
        "outputId": "e736634d-5ac0-46d5-b24f-c88f4fffe72b"
      },
      "execution_count": null,
      "outputs": [
        {
          "output_type": "stream",
          "name": "stdout",
          "text": [
            "92445516.64\n"
          ]
        }
      ]
    },
    {
      "cell_type": "markdown",
      "source": [
        "## Q8. How many transactions were processed in each step?"
      ],
      "metadata": {
        "id": "gJs4CJ4D6_K9"
      }
    },
    {
      "cell_type": "markdown",
      "source": [
        "####SparkSql"
      ],
      "metadata": {
        "id": "X2148dDeC5ao"
      }
    },
    {
      "cell_type": "code",
      "source": [
        "q9=spark.sql(\"SELECT step, COUNT(*) AS num_transaction FROM online_fraud GROUP BY step order by count(*) desc\")\n",
        "q9.show(20)"
      ],
      "metadata": {
        "id": "KZcn6F5ICgKg",
        "colab": {
          "base_uri": "https://localhost:8080/"
        },
        "outputId": "417d9570-1bf9-4dc6-afe0-115f7b5bdc26"
      },
      "execution_count": null,
      "outputs": [
        {
          "output_type": "stream",
          "name": "stdout",
          "text": [
            "+----+---------------+\n",
            "|step|num_transaction|\n",
            "+----+---------------+\n",
            "|  19|          51352|\n",
            "|  18|          49579|\n",
            "| 187|          49083|\n",
            "| 235|          47491|\n",
            "| 307|          46968|\n",
            "| 163|          46352|\n",
            "| 139|          46054|\n",
            "| 403|          45155|\n",
            "|  43|          45060|\n",
            "| 355|          44787|\n",
            "|  15|          44609|\n",
            "| 186|          43747|\n",
            "| 306|          43615|\n",
            "|  17|          43361|\n",
            "| 259|          43328|\n",
            "|  16|          42471|\n",
            "| 379|          41759|\n",
            "|  14|          41485|\n",
            "|  42|          41304|\n",
            "| 354|          40696|\n",
            "+----+---------------+\n",
            "only showing top 20 rows\n",
            "\n"
          ]
        }
      ]
    },
    {
      "cell_type": "markdown",
      "source": [
        "####Using Pandas"
      ],
      "metadata": {
        "id": "elPcqGBOHvE0"
      }
    },
    {
      "cell_type": "code",
      "source": [
        "#SOLUTION BY PANDAS DATAFRAME\n",
        "step_counts = df.groupby('step')['step'].count().reset_index(name='num_transaction').sort_values(by=['num_transaction'], ascending=False)\n",
        "\n",
        "print(step_counts.head(20))"
      ],
      "metadata": {
        "id": "lhe3qGy3IO74",
        "colab": {
          "base_uri": "https://localhost:8080/"
        },
        "outputId": "208b7ae7-41c3-4794-9c29-2b281a45b039"
      },
      "execution_count": null,
      "outputs": [
        {
          "output_type": "stream",
          "name": "stdout",
          "text": [
            "     step  num_transaction\n",
            "18     19            51352\n",
            "17     18            49579\n",
            "186   187            49083\n",
            "234   235            47491\n",
            "306   307            46968\n",
            "162   163            46352\n",
            "138   139            46054\n",
            "402   403            45155\n",
            "42     43            45060\n",
            "354   355            44787\n",
            "14     15            44609\n",
            "185   186            43747\n",
            "305   306            43615\n",
            "16     17            43361\n",
            "258   259            43328\n",
            "15     16            42471\n",
            "378   379            41759\n",
            "13     14            41485\n",
            "41     42            41304\n",
            "353   354            40696\n"
          ]
        }
      ]
    },
    {
      "cell_type": "markdown",
      "source": [
        "####Using RDD"
      ],
      "metadata": {
        "id": "MgbPUWFRTvJg"
      }
    },
    {
      "cell_type": "code",
      "source": [
        " # Create an RDD with (step, 1) tuples\n",
        "step_rdd = rdd.map(lambda row: (int(row[0]), 1))\n",
        "\n",
        "# Group the RDD by step and count the number of transactions for each step\n",
        "step_counts_rdd = step_rdd.reduceByKey(lambda x, y: x + y)\n",
        "\n",
        "# Sort the RDD by the number of transactions in descending order\n",
        "step_counts_rdd = step_counts_rdd.map(lambda x: (x[1], x[0])).sortByKey(False)\n",
        "\n",
        "# Take the top 20 steps with the highest number of transactions\n",
        "step_counts = step_counts_rdd.take(20)\n",
        "\n",
        "# Print the result\n",
        "print(step_counts)"
      ],
      "metadata": {
        "id": "_1j9t_8wT6Mt",
        "colab": {
          "base_uri": "https://localhost:8080/"
        },
        "outputId": "fb590fe4-22aa-4bdd-cc69-06a061c5563a"
      },
      "execution_count": null,
      "outputs": [
        {
          "output_type": "stream",
          "name": "stdout",
          "text": [
            "[(51352, 19), (49579, 18), (49083, 187), (47491, 235), (46968, 307), (46352, 163), (46054, 139), (45155, 403), (45060, 43), (44787, 355), (44609, 15), (43747, 186), (43615, 306), (43361, 17), (43328, 259), (42471, 16), (41759, 379), (41485, 14), (41304, 42), (40696, 354)]\n"
          ]
        }
      ]
    },
    {
      "cell_type": "markdown",
      "source": [
        "####Using Sparksql"
      ],
      "metadata": {
        "id": "pa8aVwDTDWbS"
      }
    },
    {
      "cell_type": "code",
      "source": [
        "q10=spark.sql(\"SELECT destination, COUNT(*) AS num_fraudulent FROM online_fraud WHERE isFraud = 1 GROUP BY destination ORDER BY num_fraudulent DESC LIMIT 1\")\n",
        "q10.show()"
      ],
      "metadata": {
        "id": "zf1RNCLdDa0g",
        "colab": {
          "base_uri": "https://localhost:8080/"
        },
        "outputId": "b887a8d7-4ebf-4de7-80e8-7ab9ea0545b3"
      },
      "execution_count": null,
      "outputs": [
        {
          "output_type": "stream",
          "name": "stdout",
          "text": [
            "+-----------+--------------+\n",
            "|destination|num_fraudulent|\n",
            "+-----------+--------------+\n",
            "| C964377943|             2|\n",
            "+-----------+--------------+\n",
            "\n"
          ]
        }
      ]
    },
    {
      "cell_type": "markdown",
      "source": [
        "####Using Pandas"
      ],
      "metadata": {
        "id": "29M-4WVVIblE"
      }
    },
    {
      "cell_type": "code",
      "source": [
        "#SOLUTION BY PANDAS DATAFRAME\n",
        "fraudulent_destinations = df.loc[df['isFraud'] == 1].groupby('nameDest')['nameDest'].count().reset_index(name='num_fraudulent').sort_values(by=['num_fraudulent'], ascending=False)\n",
        "\n",
        "max_fraudulent_destination = fraudulent_destinations.iloc[0]\n",
        "\n",
        "print(max_fraudulent_destination)"
      ],
      "metadata": {
        "id": "WfiZfVJBIefe",
        "colab": {
          "base_uri": "https://localhost:8080/"
        },
        "outputId": "ea8ffe0b-9a9f-4df0-e21f-03ed07f54b16"
      },
      "execution_count": null,
      "outputs": [
        {
          "output_type": "stream",
          "name": "stdout",
          "text": [
            "nameDest          C2020337583\n",
            "num_fraudulent              2\n",
            "Name: 4244, dtype: object\n"
          ]
        }
      ]
    },
    {
      "cell_type": "markdown",
      "source": [
        "####Using PYSPARK"
      ],
      "metadata": {
        "id": "kdLixgKCM9Tt"
      }
    },
    {
      "cell_type": "code",
      "source": [
        "# Filter the RDD to keep only the fraudulent transactions\n",
        "fraudulent_rdd = rdd.filter(lambda row: int(row[9]) == 1)\n",
        "\n",
        "# Group by the destination column and count the number of fraudulent transactions for each destination\n",
        "grouped_rdd = fraudulent_rdd.map(lambda row: (row[6], 1)).reduceByKey(lambda x, y: x + y)\n",
        "\n",
        "# Sort the results by the number of fraudulent transactions in descending order and take the first row\n",
        "result_rdd = grouped_rdd.sortBy(lambda x: x[1], ascending=False).take(1)\n",
        "\n",
        "# Print the result\n",
        "print(result_rdd)"
      ],
      "metadata": {
        "id": "vAS52l3fNvjO",
        "colab": {
          "base_uri": "https://localhost:8080/"
        },
        "outputId": "0b5ca283-85db-453b-8685-d57ba3725549"
      },
      "execution_count": null,
      "outputs": [
        {
          "output_type": "stream",
          "name": "stdout",
          "text": [
            "[('C1325541393', 2)]\n"
          ]
        }
      ]
    },
    {
      "cell_type": "markdown",
      "source": [
        "## Q9 .which account is credited with most amount in case of fraud?\n"
      ],
      "metadata": {
        "id": "QwLFNkQQ5o4W"
      }
    },
    {
      "cell_type": "markdown",
      "source": [
        "####Using Spark SQl"
      ],
      "metadata": {
        "id": "8LiVw5zgJ-DX"
      }
    },
    {
      "cell_type": "code",
      "source": [
        "q11=spark.sql(\"SELECT destination, sum(amount) AS num_fraudulent FROM online_fraud WHERE isFraud = 1 GROUP BY destination ORDER BY num_fraudulent DESC LIMIT 1\")\n",
        "q11.show()"
      ],
      "metadata": {
        "id": "fVkEe3mT5ufL",
        "colab": {
          "base_uri": "https://localhost:8080/"
        },
        "outputId": "eccef331-5896-4666-f115-e70924e53dbe"
      },
      "execution_count": null,
      "outputs": [
        {
          "output_type": "stream",
          "name": "stdout",
          "text": [
            "+-----------+--------------+\n",
            "|destination|num_fraudulent|\n",
            "+-----------+--------------+\n",
            "| C668046170| 1.016008868E7|\n",
            "+-----------+--------------+\n",
            "\n"
          ]
        }
      ]
    },
    {
      "cell_type": "markdown",
      "source": [
        "####Using RDD"
      ],
      "metadata": {
        "id": "5CmxbfupckaN"
      }
    },
    {
      "cell_type": "code",
      "source": [
        "# Filter the RDD to select only the fraudulent transactions\n",
        "fraudulent_rdd = rdd.filter(lambda row: int(row[9]) == 1)\n",
        "\n",
        "# Group the fraudulent transactions by destination and sum the amounts\n",
        "fraudulent_destinations_rdd = fraudulent_rdd.map(lambda row: (row[6], float(row[2])))\n",
        "fraudulent_amounts_by_destination_rdd = fraudulent_destinations_rdd.reduceByKey(lambda a, b: a + b)\n",
        "\n",
        "# Find the destination with the highest total fraudulent amount\n",
        "destination_with_highest_fraudulent_amount = fraudulent_amounts_by_destination_rdd.takeOrdered(1, lambda x: -x[1])\n",
        "\n",
        "# Print the result\n",
        "print(destination_with_highest_fraudulent_amount)"
      ],
      "metadata": {
        "id": "tzSC0F1CcZfL",
        "colab": {
          "base_uri": "https://localhost:8080/"
        },
        "outputId": "a62eb237-4a65-42c4-af4e-6c6a513cd70b"
      },
      "execution_count": null,
      "outputs": [
        {
          "output_type": "stream",
          "name": "stdout",
          "text": [
            "[('C668046170', 10160088.68)]\n"
          ]
        }
      ]
    },
    {
      "cell_type": "markdown",
      "source": [
        "####Using Pandas"
      ],
      "metadata": {
        "id": "ri7X_a1bLTTy"
      }
    },
    {
      "cell_type": "code",
      "source": [
        "#SOLUTION BY PANDAS DATAFRAME\n",
        "fraudulent_destinations = df.loc[df['isFraud'] == 1].groupby('nameDest')['amount'].sum().reset_index(name='num_fraudulent').sort_values(by=['num_fraudulent'], ascending=False)\n",
        "\n",
        "max_fraudulent_destination = fraudulent_destinations.iloc[0]\n",
        "\n",
        "print(max_fraudulent_destination)"
      ],
      "metadata": {
        "id": "hwel0KyYIk-h",
        "colab": {
          "base_uri": "https://localhost:8080/"
        },
        "outputId": "643766d5-fee2-41d2-aaa9-de5818159e81"
      },
      "execution_count": null,
      "outputs": [
        {
          "output_type": "stream",
          "name": "stdout",
          "text": [
            "nameDest           C668046170\n",
            "num_fraudulent    10160088.68\n",
            "Name: 6773, dtype: object\n"
          ]
        }
      ]
    },
    {
      "cell_type": "markdown",
      "source": [
        "## Q10.top 10 destaccount which has maximum amount in case of fraud ?\n"
      ],
      "metadata": {
        "id": "OyBVn37C5w83"
      }
    },
    {
      "cell_type": "markdown",
      "source": [
        "####Using SparkSQL"
      ],
      "metadata": {
        "id": "ipsvZ1YJJv59"
      }
    },
    {
      "cell_type": "code",
      "source": [
        "q12=spark.sql(\"SELECT destination, sum(amount) AS num_fraudulent FROM online_fraud WHERE isFraud = 1 GROUP BY destination ORDER BY num_fraudulent DESC LIMIT 10\")\n",
        "q12.show()"
      ],
      "metadata": {
        "id": "tIkzxskV53Eg",
        "colab": {
          "base_uri": "https://localhost:8080/"
        },
        "outputId": "3856c7dc-dfd5-4640-ffad-7a80a758f041"
      },
      "execution_count": null,
      "outputs": [
        {
          "output_type": "stream",
          "name": "stdout",
          "text": [
            "+-----------+--------------+\n",
            "|destination|num_fraudulent|\n",
            "+-----------+--------------+\n",
            "| C668046170| 1.016008868E7|\n",
            "| C704752055|         1.0E7|\n",
            "| C242007270|         1.0E7|\n",
            "|C1622860679|         1.0E7|\n",
            "| C709815552|         1.0E7|\n",
            "|C1423246212|         1.0E7|\n",
            "|C1865083017|         1.0E7|\n",
            "|C1806199534|         1.0E7|\n",
            "|C1614528665|         1.0E7|\n",
            "|C2065262017|         1.0E7|\n",
            "+-----------+--------------+\n",
            "\n"
          ]
        }
      ]
    },
    {
      "cell_type": "markdown",
      "source": [
        "#### Using RDD"
      ],
      "metadata": {
        "id": "NMQPWokhc_Zw"
      }
    },
    {
      "cell_type": "code",
      "source": [
        "fraudulent_rdd = rdd.filter(lambda row: int(row[9]) == 1)\n",
        "\n",
        "# Group the fraudulent transactions by destination and sum the amounts\n",
        "fraudulent_destinations_rdd = fraudulent_rdd.map(lambda row: (row[6], float(row[2])))\n",
        "fraudulent_amounts_by_destination_rdd = fraudulent_destinations_rdd.reduceByKey(lambda a, b: a + b)\n",
        "\n",
        "# Sort the destinations by descending order of fraudulent amount and take the top 10\n",
        "top_10_fraudulent_destinations = fraudulent_amounts_by_destination_rdd.takeOrdered(10, lambda x: -x[1])\n",
        "\n",
        "# Print the result\n",
        "for dest, total_fraudulent_amount in top_10_fraudulent_destinations:\n",
        "    print(f\"{dest}: {total_fraudulent_amount}\")"
      ],
      "metadata": {
        "id": "iHLrknnCdFOR",
        "colab": {
          "base_uri": "https://localhost:8080/"
        },
        "outputId": "ab5c1da6-03f2-4f01-c5bf-69c6647f5a74"
      },
      "execution_count": null,
      "outputs": [
        {
          "output_type": "stream",
          "name": "stdout",
          "text": [
            "C668046170: 10160088.68\n",
            "C1917849910: 10000000.0\n",
            "C2055653883: 10000000.0\n",
            "C1853789265: 10000000.0\n",
            "C2029456603: 10000000.0\n",
            "C709815552: 10000000.0\n",
            "C120368346: 10000000.0\n",
            "C1036214683: 10000000.0\n",
            "C839316822: 10000000.0\n",
            "C606914329: 10000000.0\n"
          ]
        }
      ]
    },
    {
      "cell_type": "markdown",
      "source": [
        "####Using Pandas"
      ],
      "metadata": {
        "id": "aSMg3ojfJ2Cr"
      }
    },
    {
      "cell_type": "code",
      "source": [
        "Top_fraudulent_destinations = df.loc[df['isFraud'] == 1].groupby('nameDest')['amount'].sum().reset_index(name='num_fraudulent').sort_values(by=['num_fraudulent'], ascending=False)\n",
        "\n",
        "Top_10_fraudulent_destinations =Top_fraudulent_destinations.iloc[0:9]\n",
        "\n",
        "print(Top_10_fraudulent_destinations)"
      ],
      "metadata": {
        "id": "HRMSnLXEcgKW",
        "colab": {
          "base_uri": "https://localhost:8080/"
        },
        "outputId": "6ca37938-f579-4117-82c7-ad55d3cfbb98"
      },
      "execution_count": null,
      "outputs": [
        {
          "output_type": "stream",
          "name": "stdout",
          "text": [
            "         nameDest  num_fraudulent\n",
            "6773   C668046170     10160088.68\n",
            "2602  C1630566944     10000000.00\n",
            "6764   C666339947     10000000.00\n",
            "2436  C1590217660     10000000.00\n",
            "2453  C1595458981     10000000.00\n",
            "252   C1056895901     10000000.00\n",
            "6694   C650095152     10000000.00\n",
            "2539  C1614528665     10000000.00\n",
            "2570  C1622860679     10000000.00\n"
          ]
        }
      ]
    }
  ]
}